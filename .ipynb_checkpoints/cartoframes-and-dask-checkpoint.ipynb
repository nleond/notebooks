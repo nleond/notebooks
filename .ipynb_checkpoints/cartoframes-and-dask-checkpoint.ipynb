{
 "cells": [
  {
   "cell_type": "markdown",
   "metadata": {},
   "source": [
    "# CARTOframes with Dask\n",
    "\n",
    "This notebook recreate the workflow from <https://jakevdp.github.io/blog/2015/08/14/out-of-core-dataframes-in-python/>, where the author explores [`dask`](http://dask.pydata.org/en/latest/) for splitting up the computations across multiple cores in a machine to complete tasks more quickly. \n",
    "\n",
    "## Basics\n",
    "\n",
    "You'll need the following for this:\n",
    "\n",
    "1. Your CARTO username\n",
    "2. Your API key\n",
    "\n",
    "Paste these values in the quotes (`''`) below."
   ]
  },
  {
   "cell_type": "code",
   "execution_count": 4,
   "metadata": {},
   "outputs": [],
   "source": [
    "%matplotlib inline\n",
    "import pandas as pd\n",
    "import cartoframes\n",
    "\n",
    "username = 'nikleonidakis'   # <-- insert your username here\n",
    "api_key = '3292af73f4256ea0fcdb316a09895460f5d7ac2e'    # <-- insert your API key here\n",
    "\n",
    "cc = cartoframes.CartoContext('https://{}.carto.com/'.format(username),\n",
    "                              api_key)"
   ]
  },
  {
   "cell_type": "code",
   "execution_count": 5,
   "metadata": {},
   "outputs": [
    {
     "ename": "FileNotFoundError",
     "evalue": "[Errno 2] No such file or directory: '/home/nikiforos/smartDataLake/geopandas/scratch/POIWorld.csv'",
     "output_type": "error",
     "traceback": [
      "\u001b[0;31m---------------------------------------------------------------------------\u001b[0m",
      "\u001b[0;31mFileNotFoundError\u001b[0m                         Traceback (most recent call last)",
      "\u001b[0;32m<ipython-input-5-3c4cb3b28616>\u001b[0m in \u001b[0;36m<module>\u001b[0;34m\u001b[0m\n\u001b[1;32m      2\u001b[0m \u001b[0;32mimport\u001b[0m \u001b[0mpandas\u001b[0m \u001b[0;32mas\u001b[0m \u001b[0mpd\u001b[0m\u001b[0;34m\u001b[0m\u001b[0m\n\u001b[1;32m      3\u001b[0m \u001b[0mcolumns\u001b[0m \u001b[0;34m=\u001b[0m \u001b[0;34m[\u001b[0m\u001b[0;34m\"name\"\u001b[0m\u001b[0;34m,\u001b[0m \u001b[0;34m\"amenity\"\u001b[0m\u001b[0;34m,\u001b[0m \u001b[0;34m\"Longitude\"\u001b[0m\u001b[0;34m,\u001b[0m \u001b[0;34m\"Latitude\"\u001b[0m\u001b[0;34m]\u001b[0m\u001b[0;34m\u001b[0m\u001b[0m\n\u001b[0;32m----> 4\u001b[0;31m \u001b[0mdata\u001b[0m \u001b[0;34m=\u001b[0m \u001b[0mdd\u001b[0m\u001b[0;34m.\u001b[0m\u001b[0mread_csv\u001b[0m\u001b[0;34m(\u001b[0m\u001b[0;34m'scratch/POIWorld.csv'\u001b[0m\u001b[0;34m,\u001b[0m \u001b[0musecols\u001b[0m\u001b[0;34m=\u001b[0m\u001b[0mcolumns\u001b[0m\u001b[0;34m)\u001b[0m\u001b[0;34m\u001b[0m\u001b[0m\n\u001b[0m",
      "\u001b[0;32m/usr/lib/smartDataLake/venv/lib/python3.5/site-packages/dask/dataframe/io/csv.py\u001b[0m in \u001b[0;36mread\u001b[0;34m(urlpath, blocksize, collection, lineterminator, compression, sample, enforce, assume_missing, storage_options, include_path_column, **kwargs)\u001b[0m\n\u001b[1;32m    488\u001b[0m                            \u001b[0mstorage_options\u001b[0m\u001b[0;34m=\u001b[0m\u001b[0mstorage_options\u001b[0m\u001b[0;34m,\u001b[0m\u001b[0;34m\u001b[0m\u001b[0m\n\u001b[1;32m    489\u001b[0m                            \u001b[0minclude_path_column\u001b[0m\u001b[0;34m=\u001b[0m\u001b[0minclude_path_column\u001b[0m\u001b[0;34m,\u001b[0m\u001b[0;34m\u001b[0m\u001b[0m\n\u001b[0;32m--> 490\u001b[0;31m                            **kwargs)\n\u001b[0m\u001b[1;32m    491\u001b[0m     read.__doc__ = READ_DOC_TEMPLATE.format(reader=reader_name,\n\u001b[1;32m    492\u001b[0m                                             file_type=file_type)\n",
      "\u001b[0;32m/usr/lib/smartDataLake/venv/lib/python3.5/site-packages/dask/dataframe/io/csv.py\u001b[0m in \u001b[0;36mread_pandas\u001b[0;34m(reader, urlpath, blocksize, collection, lineterminator, compression, sample, enforce, assume_missing, storage_options, include_path_column, **kwargs)\u001b[0m\n\u001b[1;32m    343\u001b[0m                        \u001b[0mcompression\u001b[0m\u001b[0;34m=\u001b[0m\u001b[0mcompression\u001b[0m\u001b[0;34m,\u001b[0m\u001b[0;34m\u001b[0m\u001b[0m\n\u001b[1;32m    344\u001b[0m                        \u001b[0minclude_path\u001b[0m\u001b[0;34m=\u001b[0m\u001b[0minclude_path_column\u001b[0m\u001b[0;34m,\u001b[0m\u001b[0;34m\u001b[0m\u001b[0m\n\u001b[0;32m--> 345\u001b[0;31m                        **(storage_options or {}))\n\u001b[0m\u001b[1;32m    346\u001b[0m \u001b[0;34m\u001b[0m\u001b[0m\n\u001b[1;32m    347\u001b[0m     \u001b[0;32mif\u001b[0m \u001b[0minclude_path_column\u001b[0m\u001b[0;34m:\u001b[0m\u001b[0;34m\u001b[0m\u001b[0m\n",
      "\u001b[0;32m/usr/lib/smartDataLake/venv/lib/python3.5/site-packages/dask/bytes/core.py\u001b[0m in \u001b[0;36mread_bytes\u001b[0;34m(urlpath, delimiter, not_zero, blocksize, sample, compression, include_path, **kwargs)\u001b[0m\n\u001b[1;32m     99\u001b[0m         \u001b[0;32mfor\u001b[0m \u001b[0mpath\u001b[0m \u001b[0;32min\u001b[0m \u001b[0mpaths\u001b[0m\u001b[0;34m:\u001b[0m\u001b[0;34m\u001b[0m\u001b[0m\n\u001b[1;32m    100\u001b[0m             \u001b[0;32mtry\u001b[0m\u001b[0;34m:\u001b[0m\u001b[0;34m\u001b[0m\u001b[0m\n\u001b[0;32m--> 101\u001b[0;31m                 \u001b[0msize\u001b[0m \u001b[0;34m=\u001b[0m \u001b[0mlogical_size\u001b[0m\u001b[0;34m(\u001b[0m\u001b[0mfs\u001b[0m\u001b[0;34m,\u001b[0m \u001b[0mpath\u001b[0m\u001b[0;34m,\u001b[0m \u001b[0mcompression\u001b[0m\u001b[0;34m)\u001b[0m\u001b[0;34m\u001b[0m\u001b[0m\n\u001b[0m\u001b[1;32m    102\u001b[0m             \u001b[0;32mexcept\u001b[0m \u001b[0mValueError\u001b[0m\u001b[0;34m:\u001b[0m\u001b[0;34m\u001b[0m\u001b[0m\n\u001b[1;32m    103\u001b[0m                 raise ValueError(\"Cannot do chunked reads on files compressed \"\n",
      "\u001b[0;32m/usr/lib/smartDataLake/venv/lib/python3.5/site-packages/dask/bytes/core.py\u001b[0m in \u001b[0;36mlogical_size\u001b[0;34m(fs, path, compression)\u001b[0m\n\u001b[1;32m    528\u001b[0m \u001b[0;34m\u001b[0m\u001b[0m\n\u001b[1;32m    529\u001b[0m     \u001b[0;32mif\u001b[0m \u001b[0mcompression\u001b[0m \u001b[0;32mis\u001b[0m \u001b[0;32mNone\u001b[0m\u001b[0;34m:\u001b[0m\u001b[0;34m\u001b[0m\u001b[0m\n\u001b[0;32m--> 530\u001b[0;31m         \u001b[0;32mreturn\u001b[0m \u001b[0mfs\u001b[0m\u001b[0;34m.\u001b[0m\u001b[0msize\u001b[0m\u001b[0;34m(\u001b[0m\u001b[0mpath\u001b[0m\u001b[0;34m)\u001b[0m\u001b[0;34m\u001b[0m\u001b[0m\n\u001b[0m\u001b[1;32m    531\u001b[0m     \u001b[0;32melif\u001b[0m \u001b[0mcompression\u001b[0m \u001b[0;32min\u001b[0m \u001b[0mseekable_files\u001b[0m\u001b[0;34m:\u001b[0m\u001b[0;34m\u001b[0m\u001b[0m\n\u001b[1;32m    532\u001b[0m         \u001b[0;32mwith\u001b[0m \u001b[0mOpenFile\u001b[0m\u001b[0;34m(\u001b[0m\u001b[0mfs\u001b[0m\u001b[0;34m,\u001b[0m \u001b[0mpath\u001b[0m\u001b[0;34m,\u001b[0m \u001b[0mcompression\u001b[0m\u001b[0;34m=\u001b[0m\u001b[0mcompression\u001b[0m\u001b[0;34m)\u001b[0m \u001b[0;32mas\u001b[0m \u001b[0mf\u001b[0m\u001b[0;34m:\u001b[0m\u001b[0;34m\u001b[0m\u001b[0m\n",
      "\u001b[0;32m/usr/lib/smartDataLake/venv/lib/python3.5/site-packages/dask/bytes/local.py\u001b[0m in \u001b[0;36msize\u001b[0;34m(self, path)\u001b[0m\n\u001b[1;32m     65\u001b[0m     \u001b[0;32mdef\u001b[0m \u001b[0msize\u001b[0m\u001b[0;34m(\u001b[0m\u001b[0mself\u001b[0m\u001b[0;34m,\u001b[0m \u001b[0mpath\u001b[0m\u001b[0;34m)\u001b[0m\u001b[0;34m:\u001b[0m\u001b[0;34m\u001b[0m\u001b[0m\n\u001b[1;32m     66\u001b[0m         \u001b[0;34m\"\"\"Size in bytes of the file at path\"\"\"\u001b[0m\u001b[0;34m\u001b[0m\u001b[0m\n\u001b[0;32m---> 67\u001b[0;31m         \u001b[0;32mreturn\u001b[0m \u001b[0mos\u001b[0m\u001b[0;34m.\u001b[0m\u001b[0mstat\u001b[0m\u001b[0;34m(\u001b[0m\u001b[0mself\u001b[0m\u001b[0;34m.\u001b[0m\u001b[0m_normalize_path\u001b[0m\u001b[0;34m(\u001b[0m\u001b[0mpath\u001b[0m\u001b[0;34m)\u001b[0m\u001b[0;34m)\u001b[0m\u001b[0;34m.\u001b[0m\u001b[0mst_size\u001b[0m\u001b[0;34m\u001b[0m\u001b[0m\n\u001b[0m\u001b[1;32m     68\u001b[0m \u001b[0;34m\u001b[0m\u001b[0m\n\u001b[1;32m     69\u001b[0m     \u001b[0;32mdef\u001b[0m \u001b[0m_get_pyarrow_filesystem\u001b[0m\u001b[0;34m(\u001b[0m\u001b[0mself\u001b[0m\u001b[0;34m)\u001b[0m\u001b[0;34m:\u001b[0m\u001b[0;34m\u001b[0m\u001b[0m\n",
      "\u001b[0;31mFileNotFoundError\u001b[0m: [Errno 2] No such file or directory: '/home/nikiforos/smartDataLake/geopandas/scratch/POIWorld.csv'"
     ]
    }
   ],
   "source": [
    "from dask import dataframe as dd\n",
    "import pandas as pd\n",
    "columns = [\"name\", \"amenity\", \"Longitude\", \"Latitude\"]\n",
    "data = dd.read_csv('scratch/POIWorld.csv', usecols=columns)"
   ]
  },
  {
   "cell_type": "code",
   "execution_count": 3,
   "metadata": {},
   "outputs": [],
   "source": [
    "with_name = data[data.name.notnull()]\n",
    "with_amenity = data[data.amenity.notnull()]\n",
    "\n",
    "is_starbucks = with_name.name.str.contains('[Ss]tarbucks')\n",
    "is_dunkin = with_name.name.str.contains('[Dd]unkin')\n",
    "\n",
    "starbucks = with_name[is_starbucks].compute()\n",
    "dunkin = with_name[is_dunkin].compute()"
   ]
  },
  {
   "cell_type": "code",
   "execution_count": 4,
   "metadata": {},
   "outputs": [
    {
     "data": {
      "text/html": [
       "<div>\n",
       "<style scoped>\n",
       "    .dataframe tbody tr th:only-of-type {\n",
       "        vertical-align: middle;\n",
       "    }\n",
       "\n",
       "    .dataframe tbody tr th {\n",
       "        vertical-align: top;\n",
       "    }\n",
       "\n",
       "    .dataframe thead th {\n",
       "        text-align: right;\n",
       "    }\n",
       "</style>\n",
       "<table border=\"1\" class=\"dataframe\">\n",
       "  <thead>\n",
       "    <tr style=\"text-align: right;\">\n",
       "      <th></th>\n",
       "      <th>name</th>\n",
       "      <th>amenity</th>\n",
       "      <th>Longitude</th>\n",
       "      <th>Latitude</th>\n",
       "      <th>type</th>\n",
       "    </tr>\n",
       "  </thead>\n",
       "  <tbody>\n",
       "    <tr>\n",
       "      <th>6696</th>\n",
       "      <td>Starbucks</td>\n",
       "      <td>cafe</td>\n",
       "      <td>121.035006</td>\n",
       "      <td>14.547281</td>\n",
       "      <td>starbucks</td>\n",
       "    </tr>\n",
       "    <tr>\n",
       "      <th>8322</th>\n",
       "      <td>Starbucks Coffee</td>\n",
       "      <td>cafe</td>\n",
       "      <td>120.978371</td>\n",
       "      <td>14.578929</td>\n",
       "      <td>starbucks</td>\n",
       "    </tr>\n",
       "    <tr>\n",
       "      <th>9505</th>\n",
       "      <td>星巴克咖啡 Starbucks</td>\n",
       "      <td>cafe</td>\n",
       "      <td>120.135887</td>\n",
       "      <td>30.271254</td>\n",
       "      <td>starbucks</td>\n",
       "    </tr>\n",
       "    <tr>\n",
       "      <th>12417</th>\n",
       "      <td>星巴克咖啡 Starbucks</td>\n",
       "      <td>cafe</td>\n",
       "      <td>120.158464</td>\n",
       "      <td>30.253061</td>\n",
       "      <td>starbucks</td>\n",
       "    </tr>\n",
       "    <tr>\n",
       "      <th>12418</th>\n",
       "      <td>星巴克咖啡 Starbucks</td>\n",
       "      <td>cafe</td>\n",
       "      <td>120.157341</td>\n",
       "      <td>30.256555</td>\n",
       "      <td>starbucks</td>\n",
       "    </tr>\n",
       "    <tr>\n",
       "      <th>28564</th>\n",
       "      <td>Starbucks</td>\n",
       "      <td>cafe</td>\n",
       "      <td>-76.934625</td>\n",
       "      <td>40.238707</td>\n",
       "      <td>starbucks</td>\n",
       "    </tr>\n",
       "    <tr>\n",
       "      <th>33017</th>\n",
       "      <td>Starbucks</td>\n",
       "      <td>cafe</td>\n",
       "      <td>-1.545032</td>\n",
       "      <td>53.797463</td>\n",
       "      <td>starbucks</td>\n",
       "    </tr>\n",
       "    <tr>\n",
       "      <th>36552</th>\n",
       "      <td>Starbucks Coffee</td>\n",
       "      <td>cafe</td>\n",
       "      <td>-79.390940</td>\n",
       "      <td>43.649976</td>\n",
       "      <td>starbucks</td>\n",
       "    </tr>\n",
       "    <tr>\n",
       "      <th>37719</th>\n",
       "      <td>Starbucks Coffee</td>\n",
       "      <td>cafe</td>\n",
       "      <td>-79.389462</td>\n",
       "      <td>43.645361</td>\n",
       "      <td>starbucks</td>\n",
       "    </tr>\n",
       "    <tr>\n",
       "      <th>40437</th>\n",
       "      <td>Starbucks Coffee</td>\n",
       "      <td>cafe</td>\n",
       "      <td>-79.393634</td>\n",
       "      <td>43.670435</td>\n",
       "      <td>starbucks</td>\n",
       "    </tr>\n",
       "    <tr>\n",
       "      <th>40439</th>\n",
       "      <td>Starbucks Coffee</td>\n",
       "      <td>cafe</td>\n",
       "      <td>-79.390089</td>\n",
       "      <td>43.670596</td>\n",
       "      <td>starbucks</td>\n",
       "    </tr>\n",
       "    <tr>\n",
       "      <th>41495</th>\n",
       "      <td>Starbucks Coffee</td>\n",
       "      <td>cafe</td>\n",
       "      <td>13.388738</td>\n",
       "      <td>52.519403</td>\n",
       "      <td>starbucks</td>\n",
       "    </tr>\n",
       "    <tr>\n",
       "      <th>41500</th>\n",
       "      <td>Starbucks Coffee</td>\n",
       "      <td>cafe</td>\n",
       "      <td>13.379787</td>\n",
       "      <td>52.516727</td>\n",
       "      <td>starbucks</td>\n",
       "    </tr>\n",
       "    <tr>\n",
       "      <th>41869</th>\n",
       "      <td>Starbucks Coffee</td>\n",
       "      <td>cafe</td>\n",
       "      <td>13.373732</td>\n",
       "      <td>52.507931</td>\n",
       "      <td>starbucks</td>\n",
       "    </tr>\n",
       "    <tr>\n",
       "      <th>42941</th>\n",
       "      <td>Starbucks Coffee</td>\n",
       "      <td>cafe</td>\n",
       "      <td>13.376430</td>\n",
       "      <td>52.510587</td>\n",
       "      <td>starbucks</td>\n",
       "    </tr>\n",
       "    <tr>\n",
       "      <th>43173</th>\n",
       "      <td>Starbucks</td>\n",
       "      <td>cafe</td>\n",
       "      <td>32.878538</td>\n",
       "      <td>39.895229</td>\n",
       "      <td>starbucks</td>\n",
       "    </tr>\n",
       "    <tr>\n",
       "      <th>43229</th>\n",
       "      <td>Starbucks</td>\n",
       "      <td>cafe</td>\n",
       "      <td>16.370443</td>\n",
       "      <td>48.203665</td>\n",
       "      <td>starbucks</td>\n",
       "    </tr>\n",
       "    <tr>\n",
       "      <th>45342</th>\n",
       "      <td>Starbucks</td>\n",
       "      <td>cafe</td>\n",
       "      <td>13.390018</td>\n",
       "      <td>52.511072</td>\n",
       "      <td>starbucks</td>\n",
       "    </tr>\n",
       "    <tr>\n",
       "      <th>50742</th>\n",
       "      <td>Starbucks Coffee</td>\n",
       "      <td>cafe</td>\n",
       "      <td>-79.385434</td>\n",
       "      <td>43.655530</td>\n",
       "      <td>starbucks</td>\n",
       "    </tr>\n",
       "    <tr>\n",
       "      <th>53643</th>\n",
       "      <td>Starbucks Coffee</td>\n",
       "      <td>cafe</td>\n",
       "      <td>-0.135514</td>\n",
       "      <td>51.498925</td>\n",
       "      <td>starbucks</td>\n",
       "    </tr>\n",
       "  </tbody>\n",
       "</table>\n",
       "</div>"
      ],
      "text/plain": [
       "                   name amenity   Longitude   Latitude       type\n",
       "6696          Starbucks    cafe  121.035006  14.547281  starbucks\n",
       "8322   Starbucks Coffee    cafe  120.978371  14.578929  starbucks\n",
       "9505    星巴克咖啡 Starbucks    cafe  120.135887  30.271254  starbucks\n",
       "12417   星巴克咖啡 Starbucks    cafe  120.158464  30.253061  starbucks\n",
       "12418   星巴克咖啡 Starbucks    cafe  120.157341  30.256555  starbucks\n",
       "28564         Starbucks    cafe  -76.934625  40.238707  starbucks\n",
       "33017         Starbucks    cafe   -1.545032  53.797463  starbucks\n",
       "36552  Starbucks Coffee    cafe  -79.390940  43.649976  starbucks\n",
       "37719  Starbucks Coffee    cafe  -79.389462  43.645361  starbucks\n",
       "40437  Starbucks Coffee    cafe  -79.393634  43.670435  starbucks\n",
       "40439  Starbucks Coffee    cafe  -79.390089  43.670596  starbucks\n",
       "41495  Starbucks Coffee    cafe   13.388738  52.519403  starbucks\n",
       "41500  Starbucks Coffee    cafe   13.379787  52.516727  starbucks\n",
       "41869  Starbucks Coffee    cafe   13.373732  52.507931  starbucks\n",
       "42941  Starbucks Coffee    cafe   13.376430  52.510587  starbucks\n",
       "43173         Starbucks    cafe   32.878538  39.895229  starbucks\n",
       "43229         Starbucks    cafe   16.370443  48.203665  starbucks\n",
       "45342         Starbucks    cafe   13.390018  52.511072  starbucks\n",
       "50742  Starbucks Coffee    cafe  -79.385434  43.655530  starbucks\n",
       "53643  Starbucks Coffee    cafe   -0.135514  51.498925  starbucks"
      ]
     },
     "execution_count": 4,
     "metadata": {},
     "output_type": "execute_result"
    }
   ],
   "source": [
    "starbucks['type'] = 'starbucks'\n",
    "dunkin['type'] = 'dunkin'\n",
    "coffee_places = pd.concat([starbucks, dunkin])\n",
    "coffee_places.head(20)"
   ]
  },
  {
   "cell_type": "markdown",
   "metadata": {},
   "source": [
    "## Write DataFrame to CARTO"
   ]
  },
  {
   "cell_type": "code",
   "execution_count": 5,
   "metadata": {},
   "outputs": [
    {
     "name": "stdout",
     "output_type": "stream",
     "text": [
      "The following columns were changed in the CARTO copy of this dataframe:\n",
      "\u001b[1mLongitude\u001b[0m -> \u001b[1mlongitude\u001b[0m\n",
      "\u001b[1mLatitude\u001b[0m -> \u001b[1mlatitude\u001b[0m\n",
      "Table successfully written to CARTO: https://cartoframes.carto.com/dataset/coffee_places\n"
     ]
    }
   ],
   "source": [
    "# specify columns for lng/lat so carto will create a geometry\n",
    "cc.write(coffee_places,\n",
    "         table_name='coffee_places',\n",
    "         lnglat=('longitude', 'latitude'),\n",
    "         overwrite=True)"
   ]
  },
  {
   "cell_type": "markdown",
   "metadata": {},
   "source": [
    "### Let's visualize this DataFrame\n",
    "\n",
    "Category map on Dunkin' Donuts vs. Starbucks (aka, color by 'type')"
   ]
  },
  {
   "cell_type": "code",
   "execution_count": 6,
   "metadata": {
    "scrolled": false
   },
   "outputs": [
    {
     "data": {
      "text/plain": [
       "<matplotlib.axes._subplots.AxesSubplot at 0x160fe00f0>"
      ]
     },
     "execution_count": 6,
     "metadata": {},
     "output_type": "execute_result"
    },
    {
     "data": {
      "image/png": "[encoded data removed]",
      "text/plain": [
       "<matplotlib.figure.Figure at 0x153cf9320>"
      ]
     },
     "metadata": {},
     "output_type": "display_data"
    }
   ],
   "source": [
    "from cartoframes import Layer\n",
    "cc.map(layers=Layer('coffee_places', color='type', size=3))"
   ]
  },
  {
   "cell_type": "markdown",
   "metadata": {},
   "source": [
    "## Fast Food"
   ]
  },
  {
   "cell_type": "code",
   "execution_count": 7,
   "metadata": {
    "scrolled": true
   },
   "outputs": [
    {
     "data": {
      "text/plain": [
       "McDonald's        8697\n",
       "Subway            7058\n",
       "Burger King       3226\n",
       "KFC               2881\n",
       "Wendy's           1304\n",
       "Taco Bell         1282\n",
       "Pizza Hut         1014\n",
       "マクドナルド             927\n",
       "Dairy Queen        745\n",
       "Domino's Pizza     724\n",
       "McDonalds          619\n",
       "Arby's             609\n",
       "Name: name, dtype: int64"
      ]
     },
     "execution_count": 7,
     "metadata": {},
     "output_type": "execute_result"
    }
   ],
   "source": [
    "is_fastfood = with_amenity.amenity.str.contains('fast_food')\n",
    "fastfood = with_amenity[is_fastfood]\n",
    "fastfood.name.value_counts().head(12)"
   ]
  },
  {
   "cell_type": "code",
   "execution_count": 8,
   "metadata": {},
   "outputs": [
    {
     "name": "stdout",
     "output_type": "stream",
     "text": [
      "The following columns were changed in the CARTO copy of this dataframe:\n",
      "\u001b[1mLongitude\u001b[0m -> \u001b[1mlongitude\u001b[0m\n",
      "\u001b[1mLatitude\u001b[0m -> \u001b[1mlatitude\u001b[0m\n",
      "Table successfully written to CARTO: https://cartoframes.carto.com/dataset/fastfood_dask\n",
      "`the_geom` column is being populated from `('longitude', 'latitude')`. Check the status of the operation with:\n",
      "    \u001b[1mBatchJobStatus(CartoContext(), 'd2bc4e92-b1d5-4c7d-a8d7-d5a47eddea0f').status()\u001b[0m\n",
      "or try reading the table from CARTO in a couple of minutes.\n",
      "\u001b[1mNote:\u001b[0m `CartoContext.map` will not work on this table until its geometries are created.\n"
     ]
    },
    {
     "data": {
      "text/plain": [
       "BatchJobStatus(job_id='d2bc4e92-b1d5-4c7d-a8d7-d5a47eddea0f', last_status='pending', created_at='2017-12-05T14:25:06.748Z')"
      ]
     },
     "execution_count": 8,
     "metadata": {},
     "output_type": "execute_result"
    }
   ],
   "source": [
    "ff = fastfood.compute()\n",
    "cc.write(ff,\n",
    "         table_name='fastfood_dask',\n",
    "         lnglat=('longitude', 'latitude'), overwrite=True)"
   ]
  },
  {
   "cell_type": "markdown",
   "metadata": {},
   "source": [
    "### Number of Fast Food places in this OSM dump"
   ]
  },
  {
   "cell_type": "code",
   "execution_count": 9,
   "metadata": {},
   "outputs": [
    {
     "data": {
      "text/plain": [
       "152214"
      ]
     },
     "execution_count": 9,
     "metadata": {},
     "output_type": "execute_result"
    }
   ],
   "source": [
    "len(ff)"
   ]
  },
  {
   "cell_type": "markdown",
   "metadata": {},
   "source": [
    "### OSM Fast Food POIs"
   ]
  },
  {
   "cell_type": "code",
   "execution_count": 11,
   "metadata": {},
   "outputs": [
    {
     "data": {
      "text/html": [
       "<iframe srcdoc=\"<!DOCTYPE html>\n",
       "<html>\n",
       "  <head>\n",
       "    <title>Carto</title>\n",
       "    <meta name='viewport' content='initial-scale=1.0, user-scalable=no' />\n",
       "    <meta http-equiv='content-type' content='text/html; charset=UTF-8' />\n",
       "    <link rel='shortcut icon' href='http://cartodb.com/assets/favicon.ico' />\n",
       "\n",
       "    <style>\n",
       "     html, body, #map {\n",
       "       height: 100%;\n",
       "       padding: 0;\n",
       "       margin: 0;\n",
       "     }\n",
       "     #zoom-center {\n",
       "       position: absolute;\n",
       "       right: 0;\n",
       "       top: 0;\n",
       "       background-color: rgba(255, 255, 255, 0.7);\n",
       "       width: 240px;\n",
       "       z-index: 100;\n",
       "       padding: 4px;\n",
       "     }\n",
       "    </style>\n",
       "\n",
       "    <link rel='stylesheet' href='https://cartodb-libs.global.ssl.fastly.net/cartodb.js/v3/3.15/themes/css/cartodb.css' />\n",
       "  </head>\n",
       "  <body>\n",
       "    <div id='zoom-center'>\n",
       "      zoom=<span id='zoom'>4</span>,\n",
       "      lng=<span id='lon'>No data</span>, lat=<span id='lat'>No data</span>\n",
       "    </div>\n",
       "    <div id='map'></div>\n",
       "    <script src='https://cartodb-libs.global.ssl.fastly.net/cartodb.js/v3/3.15/cartodb.js'></script>\n",
       "\n",
       "    <script>\n",
       "     const config  = {&quot;user_name&quot;: &quot;cartoframes&quot;, &quot;maps_api_template&quot;: &quot;https://cartoframes.carto.com&quot;, &quot;sql_api_template&quot;: &quot;https://cartoframes.carto.com&quot;, &quot;tiler_protocol&quot;: &quot;https&quot;, &quot;tiler_domain&quot;: &quot;carto.com&quot;, &quot;tiler_port&quot;: &quot;80&quot;, &quot;type&quot;: &quot;namedmap&quot;, &quot;named_map&quot;: {&quot;name&quot;: &quot;cartoframes_ver20170406_layers1_time0_baseid2_labels0_zoom0&quot;, &quot;params&quot;: {&quot;basemap_url&quot;: &quot;https://cartodb-basemaps-{s}.global.ssl.fastly.net/rastertiles/voyager_labels_under/{z}/{x}/{y}.png&quot;, &quot;cartocss_0&quot;: &quot;#layer[&#92;'mapnik::geometry_type&#92;'=1] {  marker-width: 2; marker-fill: #5D69B1; marker-fill-opacity: 1; marker-allow-overlap: true; marker-line-width: 0.5; marker-line-color: #FFF; marker-line-opacity: 1;} #layer[&#92;'mapnik::geometry_type&#92;'=2] {  line-width: 1.5; line-color: #5D69B1;} #layer[&#92;'mapnik::geometry_type&#92;'=3] {  polygon-fill: #5D69B1; polygon-opacity: 0.9; polygon-gamma: 0.5; line-color: #FFF; line-width: 0.5; line-opacity: 0.25; line-comp-op: hard-light;} &quot;, &quot;sql_0&quot;: &quot;SELECT * FROM fastfood_dask&quot;, &quot;west&quot;: -178.8312024, &quot;south&quot;: -54.8071336, &quot;east&quot;: 178.4835648, &quot;north&quot;: 71.6361881}}};\n",
       "     const bounds  = [[71.6361881, 178.4835648], [-54.8071336, -178.8312024]];\n",
       "     const options = {&quot;filter&quot;: [&quot;mapnik&quot;, &quot;torque&quot;], &quot;https&quot;: true};\n",
       "\n",
       "     const adjustLongitude = (lng) => (\n",
       "       lng - ((Math.ceil((lng + 180) / 360) - 1) * 360)\n",
       "     );\n",
       "     const map = L.map('map', {\n",
       "       zoom: 3,\n",
       "       center: [0, 0],\n",
       "     });\n",
       "\n",
       "     if (L.Browser.retina) {\n",
       "         var basemap = config.named_map.params.basemap_url.replace('.png', '@2x.png');\n",
       "     } else {\n",
       "         var basemap = config.named_map.params.basemap_url;\n",
       "     }\n",
       "     L.tileLayer(basemap, {\n",
       "         attribution: &quot;&copy; <a href=\\&quot;http://www.openstreetmap.org/copyright\\&quot;>OpenStreetMap</a>&quot;\n",
       "     }).addTo(map);\n",
       "     const updateMapInfo = () => {\n",
       "       $('#zoom').text(map.getZoom());\n",
       "       $('#lat').text(map.getCenter().lat.toFixed(4));\n",
       "       $('#lon').text(adjustLongitude(map.getCenter().lng).toFixed(4));\n",
       "     };\n",
       "\n",
       "     cartodb.createLayer(map, config, options)\n",
       "            .addTo(map)\n",
       "            .done((layer) => {\n",
       "              if (bounds.length) {\n",
       "                map.fitBounds(bounds);\n",
       "              }\n",
       "              updateMapInfo();\n",
       "              map.on('move', () => {\n",
       "                updateMapInfo();\n",
       "              });\n",
       "            })\n",
       "            .error((err) => {\n",
       "              console.log('ERROR: ', err);\n",
       "            });\n",
       "    </script>\n",
       "\n",
       "  </body>\n",
       "</html>\n",
       "\" width=800 height=400>  Preview image: <img src=\"https://cartoframes.carto.com/api/v1/map/static/named/cartoframes_ver20170406_layers1_time0_baseid2_labels0_zoom0/800/400.png?config=%7B%22basemap_url%22%3A+%22https%3A%2F%2Fcartodb-basemaps-%7Bs%7D.global.ssl.fastly.net%2Frastertiles%2Fvoyager_labels_under%2F%7Bz%7D%2F%7Bx%7D%2F%7By%7D.png%22%2C+%22cartocss_0%22%3A+%22%23layer%5B%27mapnik%3A%3Ageometry_type%27%3D1%5D+%7B++marker-width%3A+2%3B+marker-fill%3A+%235D69B1%3B+marker-fill-opacity%3A+1%3B+marker-allow-overlap%3A+true%3B+marker-line-width%3A+0.5%3B+marker-line-color%3A+%23FFF%3B+marker-line-opacity%3A+1%3B%7D+%23layer%5B%27mapnik%3A%3Ageometry_type%27%3D2%5D+%7B++line-width%3A+1.5%3B+line-color%3A+%235D69B1%3B%7D+%23layer%5B%27mapnik%3A%3Ageometry_type%27%3D3%5D+%7B++polygon-fill%3A+%235D69B1%3B+polygon-opacity%3A+0.9%3B+polygon-gamma%3A+0.5%3B+line-color%3A+%23FFF%3B+line-width%3A+0.5%3B+line-opacity%3A+0.25%3B+line-comp-op%3A+hard-light%3B%7D+%22%2C+%22sql_0%22%3A+%22SELECT+%2A+FROM+fastfood_dask%22%7D&anti_cache=0.44686802321019237&bbox=-178.8312024%2C-54.8071336%2C178.4835648%2C71.6361881\" /></iframe>"
      ],
      "text/plain": [
       "<IPython.core.display.HTML object>"
      ]
     },
     "execution_count": 11,
     "metadata": {},
     "output_type": "execute_result"
    }
   ],
   "source": [
    "from cartoframes import BaseMap\n",
    "cc.map(layers=Layer('fastfood_dask', size=2))"
   ]
  },
  {
   "cell_type": "markdown",
   "metadata": {},
   "source": [
    "### Adding measures from the Data Observatory\n",
    "\n",
    "We can augment our datasets to find out some demographics at the areas of each of the coffee places if you wanted to add features for building a model."
   ]
  },
  {
   "cell_type": "code",
   "execution_count": 12,
   "metadata": {
    "scrolled": false
   },
   "outputs": [
    {
     "data": {
      "text/html": [
       "<div>\n",
       "<style scoped>\n",
       "    .dataframe tbody tr th:only-of-type {\n",
       "        vertical-align: middle;\n",
       "    }\n",
       "\n",
       "    .dataframe tbody tr th {\n",
       "        vertical-align: top;\n",
       "    }\n",
       "\n",
       "    .dataframe thead th {\n",
       "        text-align: right;\n",
       "    }\n",
       "</style>\n",
       "<table border=\"1\" class=\"dataframe\">\n",
       "  <thead>\n",
       "    <tr style=\"text-align: right;\">\n",
       "      <th></th>\n",
       "      <th>amenity</th>\n",
       "      <th>index</th>\n",
       "      <th>latitude</th>\n",
       "      <th>longitude</th>\n",
       "      <th>median_income_2010_2014</th>\n",
       "      <th>median_income_2011_2015</th>\n",
       "      <th>name</th>\n",
       "      <th>pop_determined_poverty_status_per_sq_km_2010_2014</th>\n",
       "      <th>pop_determined_poverty_status_per_sq_km_2011_2015</th>\n",
       "      <th>the_geom</th>\n",
       "      <th>total_pop_per_sq_km_2010_2014</th>\n",
       "      <th>total_pop_per_sq_km_2011_2015</th>\n",
       "      <th>type</th>\n",
       "    </tr>\n",
       "    <tr>\n",
       "      <th>cartodb_id</th>\n",
       "      <th></th>\n",
       "      <th></th>\n",
       "      <th></th>\n",
       "      <th></th>\n",
       "      <th></th>\n",
       "      <th></th>\n",
       "      <th></th>\n",
       "      <th></th>\n",
       "      <th></th>\n",
       "      <th></th>\n",
       "      <th></th>\n",
       "      <th></th>\n",
       "      <th></th>\n",
       "    </tr>\n",
       "  </thead>\n",
       "  <tbody>\n",
       "    <tr>\n",
       "      <th>6</th>\n",
       "      <td>cafe</td>\n",
       "      <td>28564</td>\n",
       "      <td>40.238707</td>\n",
       "      <td>-76.934625</td>\n",
       "      <td>62842.0</td>\n",
       "      <td>63415.0</td>\n",
       "      <td>Starbucks</td>\n",
       "      <td>881.868363</td>\n",
       "      <td>873.056479</td>\n",
       "      <td>0101000020E61000007D2079E7D03B53C005EBEEF08D1E...</td>\n",
       "      <td>996.366180</td>\n",
       "      <td>991.577729</td>\n",
       "      <td>starbucks</td>\n",
       "    </tr>\n",
       "    <tr>\n",
       "      <th>26</th>\n",
       "      <td>cafe</td>\n",
       "      <td>65532</td>\n",
       "      <td>35.079845</td>\n",
       "      <td>-106.606866</td>\n",
       "      <td>34140.0</td>\n",
       "      <td>32838.0</td>\n",
       "      <td>Starbucks</td>\n",
       "      <td>869.520635</td>\n",
       "      <td>871.745312</td>\n",
       "      <td>0101000020E61000001CA43BE3D6A65AC0A11EEC5E388A...</td>\n",
       "      <td>929.112813</td>\n",
       "      <td>932.249243</td>\n",
       "      <td>starbucks</td>\n",
       "    </tr>\n",
       "    <tr>\n",
       "      <th>42</th>\n",
       "      <td>cafe</td>\n",
       "      <td>93071</td>\n",
       "      <td>44.039946</td>\n",
       "      <td>-88.541166</td>\n",
       "      <td>39996.0</td>\n",
       "      <td>40665.0</td>\n",
       "      <td>Starbucks</td>\n",
       "      <td>687.264493</td>\n",
       "      <td>686.831843</td>\n",
       "      <td>0101000020E61000004E0E9F74A22256C092CD55F31C05...</td>\n",
       "      <td>854.267385</td>\n",
       "      <td>840.552380</td>\n",
       "      <td>starbucks</td>\n",
       "    </tr>\n",
       "    <tr>\n",
       "      <th>61</th>\n",
       "      <td>cafe</td>\n",
       "      <td>143097</td>\n",
       "      <td>37.367685</td>\n",
       "      <td>-122.036460</td>\n",
       "      <td>122354.0</td>\n",
       "      <td>125488.0</td>\n",
       "      <td>Starbucks</td>\n",
       "      <td>3211.407801</td>\n",
       "      <td>3278.440419</td>\n",
       "      <td>0101000020E6100000CFC7105B55825EC0D45D7E4C10AF...</td>\n",
       "      <td>3238.971520</td>\n",
       "      <td>3308.291340</td>\n",
       "      <td>starbucks</td>\n",
       "    </tr>\n",
       "    <tr>\n",
       "      <th>69</th>\n",
       "      <td>cafe</td>\n",
       "      <td>169680</td>\n",
       "      <td>39.953015</td>\n",
       "      <td>-75.192289</td>\n",
       "      <td>18933.0</td>\n",
       "      <td>20483.0</td>\n",
       "      <td>Starbucks</td>\n",
       "      <td>4855.675567</td>\n",
       "      <td>4977.608287</td>\n",
       "      <td>0101000020E610000067B96C744ECC52C0910E0F61FCF9...</td>\n",
       "      <td>6558.800331</td>\n",
       "      <td>6725.720324</td>\n",
       "      <td>starbucks</td>\n",
       "    </tr>\n",
       "  </tbody>\n",
       "</table>\n",
       "</div>"
      ],
      "text/plain": [
       "           amenity   index   latitude   longitude  median_income_2010_2014  \\\n",
       "cartodb_id                                                                   \n",
       "6             cafe   28564  40.238707  -76.934625                  62842.0   \n",
       "26            cafe   65532  35.079845 -106.606866                  34140.0   \n",
       "42            cafe   93071  44.039946  -88.541166                  39996.0   \n",
       "61            cafe  143097  37.367685 -122.036460                 122354.0   \n",
       "69            cafe  169680  39.953015  -75.192289                  18933.0   \n",
       "\n",
       "            median_income_2011_2015       name  \\\n",
       "cartodb_id                                       \n",
       "6                           63415.0  Starbucks   \n",
       "26                          32838.0  Starbucks   \n",
       "42                          40665.0  Starbucks   \n",
       "61                         125488.0  Starbucks   \n",
       "69                          20483.0  Starbucks   \n",
       "\n",
       "            pop_determined_poverty_status_per_sq_km_2010_2014  \\\n",
       "cartodb_id                                                      \n",
       "6                                                  881.868363   \n",
       "26                                                 869.520635   \n",
       "42                                                 687.264493   \n",
       "61                                                3211.407801   \n",
       "69                                                4855.675567   \n",
       "\n",
       "            pop_determined_poverty_status_per_sq_km_2011_2015  \\\n",
       "cartodb_id                                                      \n",
       "6                                                  873.056479   \n",
       "26                                                 871.745312   \n",
       "42                                                 686.831843   \n",
       "61                                                3278.440419   \n",
       "69                                                4977.608287   \n",
       "\n",
       "                                                     the_geom  \\\n",
       "cartodb_id                                                      \n",
       "6           0101000020E61000007D2079E7D03B53C005EBEEF08D1E...   \n",
       "26          0101000020E61000001CA43BE3D6A65AC0A11EEC5E388A...   \n",
       "42          0101000020E61000004E0E9F74A22256C092CD55F31C05...   \n",
       "61          0101000020E6100000CFC7105B55825EC0D45D7E4C10AF...   \n",
       "69          0101000020E610000067B96C744ECC52C0910E0F61FCF9...   \n",
       "\n",
       "            total_pop_per_sq_km_2010_2014  total_pop_per_sq_km_2011_2015  \\\n",
       "cartodb_id                                                                 \n",
       "6                              996.366180                     991.577729   \n",
       "26                             929.112813                     932.249243   \n",
       "42                             854.267385                     840.552380   \n",
       "61                            3238.971520                    3308.291340   \n",
       "69                            6558.800331                    6725.720324   \n",
       "\n",
       "                 type  \n",
       "cartodb_id             \n",
       "6           starbucks  \n",
       "26          starbucks  \n",
       "42          starbucks  \n",
       "61          starbucks  \n",
       "69          starbucks  "
      ]
     },
     "execution_count": 12,
     "metadata": {},
     "output_type": "execute_result"
    }
   ],
   "source": [
    "# DO measures: Total Population,\n",
    "#              Children under 18 years of age\n",
    "#              Median income\n",
    "\n",
    "data_obs_measures = [{'numer_id': 'us.census.acs.B01003001'},\n",
    "                     {'numer_id': 'us.census.acs.B17001001'},\n",
    "                     {'numer_id': 'us.census.acs.B19013001'}]\n",
    "coffee_augmented = cc.data('coffee_places', data_obs_measures)\n",
    "coffee_augmented.head()"
   ]
  }
 ],
 "metadata": {
  "kernelspec": {
   "display_name": "Python 3",
   "language": "python",
   "name": "python3"
  },
  "language_info": {
   "codemirror_mode": {
    "name": "ipython",
    "version": 3
   },
   "file_extension": ".py",
   "mimetype": "text/x-python",
   "name": "python",
   "nbconvert_exporter": "python",
   "pygments_lexer": "ipython3",
   "version": "3.5.2"
  }
 },
 "nbformat": 4,
 "nbformat_minor": 2
}
